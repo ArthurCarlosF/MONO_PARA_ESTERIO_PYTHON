{
 "cells": [
  {
   "cell_type": "markdown",
   "metadata": {},
   "source": [
    "# Transformando sinal mono em Estério com efeito de rotação em python e resolução aumentada\n",
    "## - Arthur Carlos de Faria "
   ]
  },
  {
   "cell_type": "code",
   "execution_count": null,
   "metadata": {},
   "outputs": [],
   "source": [
    "\n",
    "import numpy as np\n",
    "import matplotlib.pyplot as plt\n",
    "import scipy as sc\n",
    "from scipy.fft import fft\n",
    "#conda install -c conda-forge librosa\n",
    "import librosa\n",
    "import librosa.display as ld\n",
    "from IPython.display import Audio\n",
    "import scipy.io.wavfile as wav"
   ]
  },
  {
   "cell_type": "markdown",
   "metadata": {},
   "source": [
    "## Importando audio de exemplo"
   ]
  },
  {
   "cell_type": "code",
   "execution_count": null,
   "metadata": {},
   "outputs": [],
   "source": [
    "#### Importando o áudio original ####\n",
    "#coloque o audio na mesma pasta do arquivo e rode o código abaixo\n",
    "file_name=\"SUPER_MARIO2.wav\"\n",
    "\n",
    "fs,signal=wav.read(file_name)\n",
    "\n",
    "length = signal.shape[0] / fs\n",
    "print(f\"length = {length}s\")\n",
    "  \n",
    "print(\"Frequência de amostragem do audio: \",fs)\n",
    "print(signal)\n",
    "plt.figure(figsize=(20,2))\n",
    "plt.title(\"Sinal de audio wav\")\n",
    "plt.xlabel(\"Amostras\")\n",
    "plt.ylabel(\"X(t)\")\n",
    "plt.plot(signal)\n",
    "plt.show()\n",
    "\n",
    "plt.show()\n",
    "Audio(file_name)"
   ]
  },
  {
   "cell_type": "markdown",
   "metadata": {},
   "source": [
    "### Análise no domínio do tempo"
   ]
  },
  {
   "cell_type": "code",
   "execution_count": null,
   "metadata": {},
   "outputs": [],
   "source": [
    "#### Comparando os sinais direito e esquerdo, no domínio de Amostras ####\n",
    "\n",
    "# time = np.linspace(0., length, signal.shape[0])\n",
    "signal1= signal[:, 0]\n",
    "signal2= signal[:, 1]\n",
    "plt.figure(figsize=(20,2))\n",
    "plt.title(\"Sinal Esquerdo\")\n",
    "plt.xlabel(\"Amostras\")\n",
    "plt.ylabel(\"X(t)\")\n",
    "plt.plot(signal1)\n",
    "plt.show()\n",
    "plt.figure(figsize=(20,2))\n",
    "plt.title(\"Sinal direito\")\n",
    "plt.xlabel(\"Amostras\")\n",
    "plt.ylabel(\"X(t)\")\n",
    "plt.plot(signal2)\n",
    "\n",
    "\n",
    "cont=0;\n",
    "for k in np.arange(0,len(signal1)-1,1):\n",
    "    if(signal1[k]==signal2[k]):\n",
    "        cont+=1;\n",
    "        \n",
    "print(\"Porcentagem de pontos iguais\",100*cont//len(signal2),\"%\")\n"
   ]
  },
  {
   "cell_type": "code",
   "execution_count": null,
   "metadata": {
    "scrolled": false
   },
   "outputs": [],
   "source": [
    "#### Transformando o eixo X do domínio de amostras para Tempo em Segundos ####\n",
    "\n",
    "N=len(signal1)\n",
    "T=1/fs\n",
    "t=np.arange(0,N*T,T)\n",
    "plt.figure(figsize=(20,2))\n",
    "plt.title(\"Sinal Esquerdo\")\n",
    "plt.xlabel(\"segundos\")\n",
    "plt.ylabel(\"X(t)\")\n",
    "plt.plot(t,signal1)\n",
    "plt.show()\n",
    "plt.figure(figsize=(20,2))\n",
    "plt.title(\"Sinal direito\")\n",
    "plt.xlabel(\"segundos\")\n",
    "plt.ylabel(\"X(t)\")\n",
    "plt.plot(t,signal2)\n",
    "plt.show()\n"
   ]
  },
  {
   "cell_type": "markdown",
   "metadata": {},
   "source": [
    "### Análise no domínio da frequência"
   ]
  },
  {
   "cell_type": "code",
   "execution_count": null,
   "metadata": {},
   "outputs": [],
   "source": [
    "#### Fazendo a FFT dos sinais Esquerdo e Direito ####\n",
    "\n",
    "fftsignal1=fft(signal1)/len(signal1)\n",
    "fftsignal2=fft(signal2)/len(signal2)\n",
    "\n",
    "\n"
   ]
  },
  {
   "cell_type": "code",
   "execution_count": null,
   "metadata": {},
   "outputs": [],
   "source": [
    "#### Plotando e Comparando A FFT dos sinais direito e esquerdo ####\n",
    "\n",
    "freq=fs*t/(t[len(t)-1])\n",
    "plt.figure(figsize=(20,2))\n",
    "plt.title(\"Sinal Esquerdo\")\n",
    "plt.xlabel(\"Hz\")\n",
    "plt.ylabel(\"X1(t)\")\n",
    "plt.plot(freq[:len(freq)//2],np.abs(fftsignal1[:len(freq)//2]))\n",
    "plt.show()\n",
    "plt.figure(figsize=(20,2))\n",
    "plt.title(\"Sinal direito\")\n",
    "plt.xlabel(\"Hz\")\n",
    "plt.ylabel(\"X1(t)\")\n",
    "plt.plot(freq[:len(freq)//2],np.abs(fftsignal2[:len(freq)//2]))\n",
    "plt.show()\n",
    "\n",
    "\n"
   ]
  },
  {
   "attachments": {
    "image.png": {
     "image/png": "[encoded data removed]"
    }
   },
   "cell_type": "markdown",
   "metadata": {},
   "source": [
    "![image.png](attachment:image.png)"
   ]
  },
  {
   "cell_type": "code",
   "execution_count": null,
   "metadata": {},
   "outputs": [],
   "source": [
    "### Analisando apenas uma Janela para vermos com mais detalhe as principais frequências do sinal ####\n",
    "\n",
    "plt.figure(figsize=(20,2))\n",
    "plt.title(\"Sinal\")\n",
    "plt.xlabel(\"Hz\")\n",
    "plt.ylabel(\"X1(t)\")\n",
    "plt.plot(freq[:len(freq)//40],np.abs(fftsignal2[:len(freq)//40]))\n",
    "plt.grid()\n",
    "plt.show()\n"
   ]
  },
  {
   "cell_type": "code",
   "execution_count": null,
   "metadata": {},
   "outputs": [],
   "source": [
    "### Definindo uma função para criar um arquivo de áudio Estereo de 16 bits, somando os lados esquerdo e direito ###\n",
    "\n",
    "def criarAudio(ladoE,ladoD,nomeArquivo,frequencia):\n",
    "    \n",
    "    sinal=np.array(np.zeros((len(ladoE),2)),dtype=np.int16)\n",
    "    \n",
    "    for k in np.arange(0,len(ladoE)-1,1):\n",
    "        sinal[k]=[ladoE[k],ladoD[k]]\n",
    "        \n",
    "        \n",
    "    wav.write(nomeArquivo, frequencia, sinal)  # write to file    \n",
    "     \n",
    " \n",
    "\n",
    "        "
   ]
  },
  {
   "cell_type": "code",
   "execution_count": null,
   "metadata": {},
   "outputs": [],
   "source": [
    "## Testando função\n",
    "## Nesta parte nada foi modificado\n",
    "sinal=criarAudio(signal1,signal2,\"TESTE.wav\",44100)\n",
    "Audio(\"TESTE.wav\")"
   ]
  },
  {
   "attachments": {
    "image.png": {
     "image/png": "[encoded data removed]"
    }
   },
   "cell_type": "markdown",
   "metadata": {},
   "source": [
    "### Tipos de variáveis suportadas\n",
    "![image.png](attachment:image.png)"
   ]
  },
  {
   "cell_type": "markdown",
   "metadata": {},
   "source": [
    "### Projetando os filtros FIR (HP e LP)"
   ]
  },
  {
   "cell_type": "code",
   "execution_count": null,
   "metadata": {},
   "outputs": [],
   "source": [
    "### Projetando o filtro HP com wc=330Hz ###\n",
    "\n",
    "from  scipy import signal\n",
    "from  scipy.signal import windows\n",
    "from numpy import pi\n",
    "Ap=0.1\n",
    "Ar=40\n",
    "Dr=10**(-0.05*Ar)\n",
    "Dp=(10**(0.05*Ap-1))/(10**(-0.05*Ap+1))\n",
    "beta=1\n",
    "numtaps=4501\n",
    "Delta=min(Dr,20*np.log10(Dp))\n",
    "wp=(330)*np.pi*2\n",
    "wr=329*np.pi*2\n",
    "\n",
    "wc1=np.mean((wr,wp))\n",
    "FiltroHP=signal.firwin(numtaps,cutoff=wc1,width=(0.1), window='nuttall', pass_zero=\"highpass\",scale=True,nyq=None,fs=fs*np.pi*2)\n",
    "\n",
    "w,H=signal.freqz(FiltroHP,fs=(1/T))\n",
    "plt.figure(figsize=(20,5))\n",
    "plt.ylabel(\"H(w)\")\n",
    "plt.xlabel(\"rad/amostras\")\n",
    "plt.plot(FiltroHP)\n",
    "plt.ylabel(\"h(t)\")\n",
    "plt.xlabel(\"amostras\")\n",
    "plt.title(\"Filtro HP obtido\")\n",
    "plt.show()\n",
    "\n",
    "plt.figure(figsize=(20,5))\n",
    "plt.xscale('log')\n",
    "plt.title(\"Módulo da resposta em frequência do filtro HP\")\n",
    "plt.plot(w,np.abs(H))\n",
    "plt.ylabel('|H(w)|')\n",
    "plt.xlabel('Hz')\n",
    "plt.show()\n",
    "\n",
    "plt.figure(figsize=(20,5))\n",
    "plt.xscale('log')\n",
    "plt.title(\"Fase da resposta em frequência do filtro HP\")\n",
    "plt.plot(w,np.angle(H))\n",
    "plt.ylabel('$<H(w)$')\n",
    "plt.xlabel('Hz')\n",
    "plt.show()\n",
    "\n",
    "\n",
    "plt.figure(figsize=(20,5))\n",
    "plt.title(\"Gabarito do filtro\")\n",
    "plt.fill([0,0.5*wr/pi,0.5*wr/pi,0],[-Ar,-Ar,0,0],0.8,c='r')\n",
    "plt.fill([0.5*wp/pi,0.5*wp*15/pi,0.5*wp*15/pi,0.5*wp/pi],[-10,-10,-Ap,-Ap],0.8,c='r')\n",
    "plt.xlabel('Hz')\n",
    "plt.ylabel('dB')\n",
    "plt.plot(w,20*np.log(np.abs(H)))\n",
    "plt.show()\n"
   ]
  },
  {
   "cell_type": "code",
   "execution_count": null,
   "metadata": {},
   "outputs": [],
   "source": [
    "### Projetando filtro LP com wc=330Hz ###\n",
    "\n",
    "Ap=0.1\n",
    "Ar=40\n",
    "Dr=10**(-0.05*Ar)\n",
    "Dp=(10**(0.05*Ap-1))/(10**(-0.05*Ap+1))\n",
    "beta=1\n",
    "numtaps=5501\n",
    "Delta=min(Dr,20*np.log10(Dp))\n",
    "wp=(330)*np.pi*2\n",
    "wr=340*np.pi*2\n",
    "\n",
    "wc1=np.mean((wr,wp))\n",
    "FiltroLP=signal.firwin(numtaps,cutoff=wc1,width=(0.1), window='nuttall', pass_zero=\"lowpass\",scale=True,nyq=None,fs=fs*np.pi*2)\n",
    "\n",
    "w,H=signal.freqz(FiltroLP,fs=(1/T))\n",
    "plt.figure(figsize=(20,5))\n",
    "plt.ylabel(\"H(w)\")\n",
    "plt.xlabel(\"rad/amostras\")\n",
    "plt.plot(FiltroLP)\n",
    "plt.ylabel(\"h(t)\")\n",
    "plt.xlabel(\"amostras\")\n",
    "plt.title(\"Filtro LP obtido\")\n",
    "plt.show()\n",
    "\n",
    "plt.figure(figsize=(20,5))\n",
    "plt.xscale('symlog')\n",
    "plt.grid()\n",
    "plt.title(\"Módulo da resposta em frequência do filtro LP\")\n",
    "plt.plot(w,np.abs(H))\n",
    "plt.ylabel('|H(w)|')\n",
    "plt.xlabel('Hz')\n",
    "plt.show()\n",
    "\n",
    "plt.figure(figsize=(20,5))\n",
    "plt.xscale('symlog')\n",
    "plt.grid()\n",
    "plt.title(\"Fase da resposta em frequência do filtro LP\")\n",
    "plt.plot(w,np.angle(H))\n",
    "plt.ylabel('$<H(w)$')\n",
    "plt.xlabel('Hz')\n",
    "plt.show()\n",
    "\n",
    "plt.figure(figsize=(20,5))\n",
    "plt.title(\"Gabarito do filtro\")\n",
    "plt.xlabel('Hz')\n",
    "plt.ylabel('dB')\n",
    "plt.fill([0,0.5*wr/pi,0.5*wr/pi,0],[-Ar,-Ar,0,0],0.8,c='r')\n",
    "plt.fill([0.5*wp/pi,0.5*wp*15/pi,0.5*wp*15/pi,0.5*wp/pi],[-10,-10,-Ap,-Ap],0.8,c='r')\n",
    "plt.plot(w,20*np.log(np.abs(H)))\n",
    "plt.show()"
   ]
  },
  {
   "cell_type": "markdown",
   "metadata": {},
   "source": [
    "### Aplicando os filtros projetados Ao sinal áudio"
   ]
  },
  {
   "cell_type": "code",
   "execution_count": null,
   "metadata": {},
   "outputs": [],
   "source": [
    "### aplicando filtro HP para separar o agudo e filtro LP para separar o grave\n",
    "agudo=signal.convolve(signal1,FiltroHP)\n",
    "grave=signal.convolve(signal1,FiltroLP)\n"
   ]
  },
  {
   "cell_type": "code",
   "execution_count": null,
   "metadata": {},
   "outputs": [],
   "source": [
    "### Comparação dos sinais separados com o sinal original, no domíno do tempo ###\n",
    "\n",
    "plt.figure(figsize=(20,5))\n",
    "plt.title(\"Sinal Agudo filtrado no domínio do tempo\")\n",
    "plt.plot(t,signal1)\n",
    "plt.plot(t,agudo[:len(t)])\n",
    "plt.legend((\"Antes do FIltro\",\"Depois do Filtro\"))\n",
    "plt.show()\n",
    "plt.figure(figsize=(20,5))\n",
    "plt.title(\"Sinal Grave filtrado no domínio do tempo\")\n",
    "plt.plot(t,signal1)\n",
    "plt.plot(t,grave[:len(t)])\n",
    "plt.legend((\"Antes do FIltro\",\"Depois do Filtro\"))\n",
    "plt.show()\n",
    "\n"
   ]
  },
  {
   "cell_type": "code",
   "execution_count": null,
   "metadata": {},
   "outputs": [],
   "source": [
    "### Comparação dos sinais separados com o sinal original, no domíno da frequência ###\n",
    "\n",
    "fftagudo=fft(agudo)/len(agudo)\n",
    "fftgrave=fft(grave)/len(grave)\n",
    "\n",
    "plt.figure(figsize=(20,2))\n",
    "plt.title(\"Sinal Esquerdo\")\n",
    "plt.xlabel(\"Hz\")\n",
    "plt.ylabel(\"X1(t)\")\n",
    "plt.plot(freq[:len(freq)//2],np.abs(fftsignal1[:len(freq)//2]))\n",
    "plt.plot(freq[:len(freq)//2],np.abs(fftagudo[:len(freq)//2]))\n",
    "plt.legend((\"Antes do FIltro\",\"Depois do Filtro\"))\n",
    "plt.xscale('log')\n",
    "plt.show()\n",
    "\n",
    "plt.figure(figsize=(20,2))\n",
    "plt.title(\"Sinal direito\")\n",
    "plt.xlabel(\"Hz\")\n",
    "plt.ylabel(\"X1(t)\")\n",
    "plt.plot(freq[:len(freq)//2],np.abs(fftsignal1[:len(freq)//2]))\n",
    "plt.plot(freq[:len(freq)//2],np.abs(fftgrave[:len(freq)//2]))\n",
    "plt.legend((\"Antes do FIltro\",\"Depois do Filtro\"))\n",
    "plt.xscale('log')\n",
    "plt.show()"
   ]
  },
  {
   "cell_type": "code",
   "execution_count": null,
   "metadata": {},
   "outputs": [],
   "source": [
    "### Escrevendo o sinal de áudio contendo somente frequencias agudas ###\n",
    "wav.write(\"agudo.wav\", 44100, np.array(agudo,dtype=np.int16))\n",
    "Audio(\"agudo.wav\")\n"
   ]
  },
  {
   "cell_type": "code",
   "execution_count": null,
   "metadata": {},
   "outputs": [],
   "source": [
    "### Escrevendo o sinal de áudio contendo somente frequencias graves ###\n",
    "wav.write(\"grave.wav\", 44100, np.array(grave,dtype=np.int16))\n",
    "Audio(\"grave.wav\")"
   ]
  },
  {
   "cell_type": "code",
   "execution_count": null,
   "metadata": {},
   "outputs": [],
   "source": [
    "### Amplificando as frequencias graves em específico, pois no audio que escolhemos o grave estava bem suavizado ###\n",
    "\n",
    "wav.write(\"grave.wav\", 44100, np.array(3*grave,dtype=np.int16))\n",
    "Audio(\"grave.wav\")\n",
    "grave=3*grave"
   ]
  },
  {
   "cell_type": "markdown",
   "metadata": {},
   "source": [
    "### Criando o efeito de Rotação"
   ]
  },
  {
   "cell_type": "code",
   "execution_count": null,
   "metadata": {},
   "outputs": [],
   "source": [
    "### Colocando os sinais grave e agudo para oscilarem entre os lados esquerdo e direito, com um período de oscilação de 10 segundos ###\n",
    "\n",
    "T=20\n",
    "amplitudeGraveEsquerdo=(np.cos(2*np.pi*t/T))**2\n",
    "amplitudeGraveDireito=(np.sin(2*np.pi*t/T))**2\n",
    "\n",
    "amplitudeAgudoEsquerdo=(np.sin(2*np.pi*t/T))**2\n",
    "amplitudeAgudoDireito=(np.cos(2*np.pi*t/T))**2\n",
    "\n",
    "soma=amplitudeGraveEsquerdo+amplitudeGraveDireito\n",
    "plt.figure(figsize=(20,2))\n",
    "plt.title(\"Amplitude do sinal grave\")\n",
    "plt.xlabel(\"segundos\")\n",
    "plt.ylabel(\"X(t)\")\n",
    "plt.plot(t,amplitudeGraveEsquerdo)\n",
    "plt.plot(t,amplitudeGraveDireito)\n",
    "plt.plot(t,soma)\n",
    "plt.legend((\"Esquerdo\",\"Direito\",\"Esquerdo+Direito\"))\n",
    "amplitudeGraveEsquerdo=(np.cos(2*np.pi*t/T))**2\n",
    "amplitudeGraveDireito=(np.sin(2*np.pi*t/T))**2\n",
    "soma=amplitudeGraveEsquerdo+amplitudeGraveDireito\n",
    "plt.figure(figsize=(20,2))\n",
    "plt.title(\"Amplitude do sinal agudo\")\n",
    "plt.xlabel(\"segundos\")\n",
    "plt.ylabel(\"X(t)\")\n",
    "plt.plot(t,amplitudeAgudoEsquerdo)\n",
    "plt.plot(t,amplitudeAgudoDireito)\n",
    "plt.plot(t,soma)\n",
    "plt.legend((\"Esquerdo\",\"Direito\",\"Esquerdo+Direito\"))\n",
    "\n"
   ]
  },
  {
   "cell_type": "code",
   "execution_count": null,
   "metadata": {},
   "outputs": [],
   "source": [
    "### Visão Geral de como se comportam nossos audios esquerdo e direito após aplicar rotação ###\n",
    "agudoEsquerdo=amplitudeAgudoEsquerdo*agudo[:len(amplitudeAgudoEsquerdo)]\n",
    "graveEsquerdo=amplitudeGraveEsquerdo*grave[:len(amplitudeGraveEsquerdo)]\n",
    "\n",
    "agudoDireito=amplitudeAgudoDireito*agudo[:len(amplitudeAgudoDireito)]\n",
    "graveDireito=amplitudeGraveDireito*grave[:len(amplitudeGraveDireito)]\n",
    "\n",
    "plt.figure(figsize=(20,2))\n",
    "plt.title(\"Esquerdo\")\n",
    "plt.xlabel(\"Segundos\")\n",
    "plt.ylabel(\"X(t)\")\n",
    "plt.plot(t,agudoEsquerdo)\n",
    "plt.plot(t,graveEsquerdo)\n",
    "plt.legend((\"Agudo\",\"Grave\",\"Agudo+grave\"))\n",
    "amplitudeGraveEsquerdo=(np.cos(2*np.pi*t/T))**2\n",
    "amplitudeGraveDireito=(np.sin(2*np.pi*t/T))**2\n",
    "soma=amplitudeGraveEsquerdo+amplitudeGraveDireito\n",
    "\n",
    "plt.figure(figsize=(20,2))\n",
    "plt.title(\"Direito\")\n",
    "plt.xlabel(\"segundos\")\n",
    "plt.ylabel(\"X(t)\")\n",
    "plt.plot(t,agudoDireito)\n",
    "plt.plot(t,graveDireito)\n",
    "plt.legend((\"Agudo\",\"Grave\",\"Agudo+grave\"))\n",
    "\n"
   ]
  },
  {
   "cell_type": "code",
   "execution_count": null,
   "metadata": {},
   "outputs": [],
   "source": [
    "### Somando as componentes esquerda e direita, para comparar com o audio original ###\n",
    "\n",
    "Esquerdo=agudoEsquerdo+graveEsquerdo\n",
    "Direito=agudoDireito+graveDireito\n",
    "plt.figure(figsize=(20,2))\n",
    "plt.title(\"Sinal original\")\n",
    "plt.xlabel(\"segundos\")\n",
    "plt.ylabel(\"X(t)\")\n",
    "plt.plot(t,Esquerdo+Direito)\n",
    "plt.plot(t,signal1)\n",
    "plt.legend((\"Modificado\",\"Original\"))\n",
    "\n",
    "### Nota-se que o audio mantem exatamente a mesma forma, porém com as componentes graves agora amplificadas ###\n"
   ]
  },
  {
   "cell_type": "code",
   "execution_count": null,
   "metadata": {},
   "outputs": [],
   "source": [
    "### Escrevendo o audio direito, para testar a oscilação entre agudo e grave ###\n",
    "wav.write(\"DireitoF.wav\", 44100, np.array(Direito,dtype=np.int16))\n",
    "Audio(\"DireitoF.wav\")"
   ]
  },
  {
   "cell_type": "code",
   "execution_count": null,
   "metadata": {},
   "outputs": [],
   "source": [
    "### Escrevendo o audio direito, para testar a oscilação entre agudo e grave ###\n",
    "wav.write(\"EsquerdoF.wav\", 44100, np.array(Direito,dtype=np.int16))\n",
    "Audio(\"EsquerdoF.wav\")"
   ]
  },
  {
   "cell_type": "code",
   "execution_count": null,
   "metadata": {},
   "outputs": [],
   "source": [
    "### Juntando Os lados Esquerdo e direito num audio ESTEREO com rotação ###\n",
    "\n",
    "sinal=criarAudio(Esquerdo,Direito,\"sinalComRotacao.wav\",44100)\n",
    "Audio(\"sinalComRotacao.wav\")\n",
    "## Como o audio grave e o agudo trocam de lado simultaneamente como descrito na senoide acima, cria-se um efeito \n",
    "## que da a sensação de que está girando"
   ]
  },
  {
   "cell_type": "markdown",
   "metadata": {},
   "source": [
    "### Aumentando a resolução do audio"
   ]
  },
  {
   "cell_type": "code",
   "execution_count": null,
   "metadata": {},
   "outputs": [],
   "source": [
    "#### Usando Reamostragem e Interpolação para melhorar a qualidade(resolução) do áudio no eixo X ####  \n",
    "\n",
    "\n",
    "L=5\n",
    "M=1\n",
    "FS=44100*L/M\n",
    "T=1/FS\n",
    "tr=np.arange(0,len(t)*L*T/M,T)\n",
    "print(\"Nova frequência de amostragem:\",FS,\"Hz\")\n",
    "print(\"Azul: Sinal original\")\n",
    "print(\"Amarelo: sinal reamostrado por fator não inteiro\")\n",
    "\n",
    "EsquerdoR=signal.resample_poly(Esquerdo,L,M)\n",
    "DireitoR  =signal.resample_poly(Direito,L,M)\n",
    "\n",
    "\n",
    "plt.figure(figsize=(20,2))\n",
    "plt.title(\"Esquerdo\")\n",
    "plt.xlabel(\"Segundos\")\n",
    "plt.ylabel(\"X(t)\")\n",
    "plt.plot(t,Esquerdo)\n",
    "plt.plot(tr,EsquerdoR)\n",
    "plt.title(\"Reamostragem do sinal Esquerdo\")\n",
    "amplitudeGraveEsquerdo=(np.cos(2*np.pi*t/T))**2\n",
    "amplitudeGraveDireito=(np.sin(2*np.pi*t/T))**2\n",
    "soma=amplitudeGraveEsquerdo+amplitudeGraveDireito\n",
    "plt.legend((\"Antes\",\"Depois\"))\n",
    "plt.figure(figsize=(20,2))\n",
    "plt.title(\"Reamostragem do sinal direito\")\n",
    "plt.xlabel(\"segundos\")\n",
    "plt.ylabel(\"X(t)\")\n",
    "plt.plot(t,Direito)\n",
    "plt.plot(tr,DireitoR)\n",
    "plt.legend((\"Antes\",\"Depois\"))\n",
    "# A resolução foi aumentada 5 vezes"
   ]
  },
  {
   "cell_type": "code",
   "execution_count": null,
   "metadata": {},
   "outputs": [],
   "source": [
    "### Analisando apenas uma Janela para vermos com mais detalhes os efeitos de aumentarmos a resolução ####\n",
    "\n",
    "k=200000\n",
    "plt.figure(figsize=(20,2))\n",
    "plt.title(\"Reamostragem do sinal Esquerdo\")\n",
    "plt.xlabel(\"Segundos\")\n",
    "plt.ylabel(\"X(t)\")\n",
    "plt.plot(t[:len(t)//k],Esquerdo[:len(t)//k])\n",
    "plt.plot(tr[:len(tr)//k],EsquerdoR[:len(tr)//k])\n",
    "plt.legend((\"Antes\",\"Depois\"))\n",
    "amplitudeGraveEsquerdo=(np.cos(2*np.pi*t/T))**2\n",
    "amplitudeGraveDireito=(np.sin(2*np.pi*t/T))**2\n",
    "soma=amplitudeGraveEsquerdo+amplitudeGraveDireito\n",
    "\n",
    "plt.figure(figsize=(20,2))\n",
    "plt.title(\"Reamostragem do sinal direito\")\n",
    "plt.xlabel(\"segundos\")\n",
    "plt.ylabel(\"X(t)\")\n",
    "plt.plot(t[:len(t)//k],Direito[:len(t)//k])\n",
    "plt.plot(tr[:len(tr)//k],DireitoR[:len(tr)//k])\n",
    "plt.legend((\"Antes\",\"Depois\"))\n",
    "plt.show()"
   ]
  },
  {
   "cell_type": "code",
   "execution_count": null,
   "metadata": {},
   "outputs": [],
   "source": [
    "#### Criando função para Aumentar a Qualidade no eixo Y, aumentando o numero de bits de gravação ####\n",
    "\n",
    "def criarAudio32(ladoE,ladoD,nomeArquivo,frequencia):\n",
    "    ganho=2147483647/32767\n",
    "    sinal=np.array(np.zeros((len(ladoE),2)),dtype=np.int32)\n",
    "    \n",
    "    for k in np.arange(0,len(ladoE)-1,1):\n",
    "        sinal[k]=[ganho*ladoE[k],ganho*ladoD[k]]\n",
    "        \n",
    "        \n",
    "    wav.write(nomeArquivo, frequencia, sinal)  # write to file    \n",
    "     \n",
    " \n",
    "\n",
    "        "
   ]
  },
  {
   "attachments": {
    "image.png": {
     "image/png": "[encoded data removed]"
    }
   },
   "cell_type": "markdown",
   "metadata": {},
   "source": [
    "### Tipos de variáveis suportadas\n",
    "![image.png](attachment:image.png)"
   ]
  },
  {
   "cell_type": "code",
   "execution_count": null,
   "metadata": {},
   "outputs": [],
   "source": [
    "ganho=2147483647/32767\n",
    "wav.write(\"EsquerdoR.wav\", 220500, np.array(ganho*EsquerdoR,dtype=np.int32))\n",
    "Audio(\"EsquerdoR.wav\")"
   ]
  },
  {
   "cell_type": "code",
   "execution_count": null,
   "metadata": {},
   "outputs": [],
   "source": [
    "\n",
    "wav.write(\"DireitoR.wav\", 220500, np.array(ganho*DireitoR,dtype=np.int32))\n",
    "Audio(\"DireitoR.wav\")"
   ]
  },
  {
   "cell_type": "code",
   "execution_count": null,
   "metadata": {},
   "outputs": [],
   "source": [
    "sinal=criarAudio(EsquerdoR,DireitoR,\"AudioFinal.wav\",220500)\n",
    "Audio(\"AudioFinal.wav\")"
   ]
  },
  {
   "cell_type": "markdown",
   "metadata": {},
   "source": [
    "### Enfim temos nosso áudio final: Estéreo, com ganho nas frequencias graves, resolução aumentada e efeito de rotação entre os lados."
   ]
  }
 ],
 "metadata": {
  "kernelspec": {
   "display_name": "Python 3",
   "language": "python",
   "name": "python3"
  },
  "language_info": {
   "codemirror_mode": {
    "name": "ipython",
    "version": 3
   },
   "file_extension": ".py",
   "mimetype": "text/x-python",
   "name": "python",
   "nbconvert_exporter": "python",
   "pygments_lexer": "ipython3",
   "version": "3.8.3"
  }
 },
 "nbformat": 4,
 "nbformat_minor": 4
}
